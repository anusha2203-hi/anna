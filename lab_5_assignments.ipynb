{
  "nbformat": 4,
  "nbformat_minor": 0,
  "metadata": {
    "colab": {
      "provenance": [],
      "authorship_tag": "ABX9TyOgNH92S55/p1cTyt1jtqrz",
      "include_colab_link": true
    },
    "kernelspec": {
      "name": "python3",
      "display_name": "Python 3"
    },
    "language_info": {
      "name": "python"
    }
  },
  "cells": [
    {
      "cell_type": "markdown",
      "metadata": {
        "id": "view-in-github",
        "colab_type": "text"
      },
      "source": [
        "<a href=\"https://colab.research.google.com/github/anusha2203-hi/anna/blob/main/lab_5_assignments.ipynb\" target=\"_parent\"><img src=\"https://colab.research.google.com/assets/colab-badge.svg\" alt=\"Open In Colab\"/></a>"
      ]
    },
    {
      "cell_type": "code",
      "source": [
        "def ascending(nos):\n",
        "  c=nos[0]\n",
        "  d=1\n",
        "  for i in range (0,len(nos),1):\n",
        "    for j in range(i,len(nos),1):\n",
        "      if(nos[i]<=nos[j]):\n",
        "        continue\n",
        "      else:\n",
        "        d=0\n",
        "        break\n",
        "  if(d==0):\n",
        "    print(\"not in ascending order\")\n",
        "  else:\n",
        "    print(\"ascending order\")\n",
        "nos=[2,8,3,1]\n",
        "ascending(nos)\n",
        "nos.sort()\n",
        "print(\"sorted list:\",nos)"
      ],
      "metadata": {
        "colab": {
          "base_uri": "https://localhost:8080/"
        },
        "id": "c2b1Wmy3o1-d",
        "outputId": "cedcc23a-759d-4f23-de4b-22fa40706c5f"
      },
      "execution_count": null,
      "outputs": [
        {
          "output_type": "stream",
          "name": "stdout",
          "text": [
            "not in ascending order\n",
            "sorted list: [1, 2, 3, 8]\n"
          ]
        }
      ]
    },
    {
      "cell_type": "code",
      "source": [
        "def dec_to_base(num,base):  #Maximum base - 36\n",
        "    base_num = \"\"\n",
        "    while num>0:\n",
        "        dig = int(num%base)\n",
        "        if dig<10:\n",
        "            base_num += str(dig)\n",
        "        else:\n",
        "            base_num += chr(ord('A')+dig-10)  #Using uppercase letters\n",
        "        num //= base\n",
        "\n",
        "    base_num = base_num[::-1]  #To reverse the string\n",
        "    return base_num"
      ],
      "metadata": {
        "id": "d8asUfxd4eQf"
      },
      "execution_count": null,
      "outputs": []
    }
  ]
}